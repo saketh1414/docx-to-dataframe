{
 "cells": [
  {
   "cell_type": "code",
   "execution_count": 1,
   "metadata": {},
   "outputs": [],
   "source": [
    "import comtypes.client\n",
    "\n",
    "def convert_doc_to_docx(doc_path, docx_path):\n",
    "\n",
    "    word = comtypes.client.CreateObject(\"Word.Application\")\n",
    "    doc = word.Documents.Open(doc_path)\n",
    "    doc.SaveAs(docx_path, FileFormat=16)  # 16 corresponds to .docx format\n",
    "    doc.Close()\n",
    "    word.Quit()\n",
    "\n",
    "# Example Usage\n",
    "convert_doc_to_docx(\"D:\\ProvenTech\\Document_1_Test.doc\", \"D:\\ProvenTech\\converted_doc1.docx\")"
   ]
  },
  {
   "cell_type": "code",
   "execution_count": 2,
   "metadata": {},
   "outputs": [],
   "source": [
    "from docx import Document\n",
    "import pandas as pd\n",
    "\n",
    "def extract_table_to_dataframe(file_path, table_index=0):\n",
    "\n",
    "    # Load the Word document\n",
    "    doc = Document(file_path)\n",
    "    \n",
    "    # Get all tables in the document\n",
    "    tables = doc.tables\n",
    "    \n",
    "    if table_index >= len(tables):\n",
    "        raise IndexError(f\"Table index {table_index} is out of range. The document has {len(tables)} tables.\")\n",
    "    \n",
    "    # Select the desired table\n",
    "    table = tables[table_index]\n",
    "    \n",
    "    # Extract data from the table\n",
    "    data = []\n",
    "    for row in table.rows:\n",
    "        # Remove \\n and strip each cell's text\n",
    "        data.append([cell.text.replace('\\n', ' ').strip() for cell in row.cells])\n",
    "    \n",
    "    # Convert data to DataFrame\n",
    "    df = pd.DataFrame(data)\n",
    "    \n",
    "    # Set the first row as the header if applicable\n",
    "    df.columns = df.iloc[0]  # Use the first row as the header\n",
    "    df = df[1:]  # Drop the header row from data\n",
    "    \n",
    "    return df\n",
    "\n",
    "# Example Usage\n",
    "file_path = r\"D:\\ProvenTech\\converted_doc1.docx\"  # Replace with the path to your Word document\n",
    "table_index = 0  # Index of the table to extract (0 for the first table)\n",
    "df = extract_table_to_dataframe(file_path, table_index)\n"
   ]
  },
  {
   "cell_type": "code",
   "execution_count": 3,
   "metadata": {},
   "outputs": [
    {
     "data": {
      "text/html": [
       "<div>\n",
       "<style scoped>\n",
       "    .dataframe tbody tr th:only-of-type {\n",
       "        vertical-align: middle;\n",
       "    }\n",
       "\n",
       "    .dataframe tbody tr th {\n",
       "        vertical-align: top;\n",
       "    }\n",
       "\n",
       "    .dataframe thead th {\n",
       "        text-align: right;\n",
       "    }\n",
       "</style>\n",
       "<table border=\"1\" class=\"dataframe\">\n",
       "  <thead>\n",
       "    <tr style=\"text-align: right;\">\n",
       "      <th></th>\n",
       "      <th>S. No.</th>\n",
       "      <th>Test</th>\n",
       "      <th>Specification Limit</th>\n",
       "      <th>Reference</th>\n",
       "    </tr>\n",
       "  </thead>\n",
       "  <tbody>\n",
       "    <tr>\n",
       "      <th>1</th>\n",
       "      <td>1.0</td>\n",
       "      <td>Description</td>\n",
       "      <td>White to off white capsules</td>\n",
       "      <td>In-house</td>\n",
       "    </tr>\n",
       "    <tr>\n",
       "      <th>2</th>\n",
       "      <td>2.0</td>\n",
       "      <td>Blend Homogeneity</td>\n",
       "      <td>Stage – 1: Individual values should be between...</td>\n",
       "      <td>In-house</td>\n",
       "    </tr>\n",
       "    <tr>\n",
       "      <th>3</th>\n",
       "      <td>3.0</td>\n",
       "      <td>Water by KF</td>\n",
       "      <td>Not more than 8.0 % w/w</td>\n",
       "      <td>In-house</td>\n",
       "    </tr>\n",
       "  </tbody>\n",
       "</table>\n",
       "</div>"
      ],
      "text/plain": [
       "0 S. No.               Test  \\\n",
       "1    1.0        Description   \n",
       "2    2.0  Blend Homogeneity   \n",
       "3    3.0        Water by KF   \n",
       "\n",
       "0                                Specification Limit Reference  \n",
       "1                        White to off white capsules  In-house  \n",
       "2  Stage – 1: Individual values should be between...  In-house  \n",
       "3                            Not more than 8.0 % w/w  In-house  "
      ]
     },
     "execution_count": 3,
     "metadata": {},
     "output_type": "execute_result"
    }
   ],
   "source": [
    "df"
   ]
  },
  {
   "cell_type": "code",
   "execution_count": 5,
   "metadata": {},
   "outputs": [
    {
     "data": {
      "text/plain": [
       "'Stage – 1: Individual values should be between 90.0% to 110.0%, average of all individuals should be within 95.0% - 105.0% of labelled amount, RSD NMT 5.0%  Stage – 2: Individual values should be between 85.0% to 115.0%, Average of all individuals should be within 95.0%  - 105.0% of labelled amount, RSD NMT 5.0%'"
      ]
     },
     "execution_count": 5,
     "metadata": {},
     "output_type": "execute_result"
    }
   ],
   "source": [
    "df.iloc[1,2]"
   ]
  },
  {
   "cell_type": "code",
   "execution_count": 11,
   "metadata": {},
   "outputs": [],
   "source": [
    "df.columns=[\"Sr.\",\"Test\",\"Specification\",\"Reference\"]"
   ]
  },
  {
   "cell_type": "code",
   "execution_count": 12,
   "metadata": {},
   "outputs": [
    {
     "data": {
      "text/html": [
       "<div>\n",
       "<style scoped>\n",
       "    .dataframe tbody tr th:only-of-type {\n",
       "        vertical-align: middle;\n",
       "    }\n",
       "\n",
       "    .dataframe tbody tr th {\n",
       "        vertical-align: top;\n",
       "    }\n",
       "\n",
       "    .dataframe thead th {\n",
       "        text-align: right;\n",
       "    }\n",
       "</style>\n",
       "<table border=\"1\" class=\"dataframe\">\n",
       "  <thead>\n",
       "    <tr style=\"text-align: right;\">\n",
       "      <th></th>\n",
       "      <th>Sr.</th>\n",
       "      <th>Test</th>\n",
       "      <th>Specification</th>\n",
       "      <th>Reference</th>\n",
       "    </tr>\n",
       "  </thead>\n",
       "  <tbody>\n",
       "    <tr>\n",
       "      <th>1</th>\n",
       "      <td>1.0</td>\n",
       "      <td>Description</td>\n",
       "      <td>White to off white capsules</td>\n",
       "      <td>In-house</td>\n",
       "    </tr>\n",
       "    <tr>\n",
       "      <th>2</th>\n",
       "      <td>2.0</td>\n",
       "      <td>Blend Homogeneity</td>\n",
       "      <td>Stage – 1: Individual values should be between...</td>\n",
       "      <td>In-house</td>\n",
       "    </tr>\n",
       "    <tr>\n",
       "      <th>3</th>\n",
       "      <td>3.0</td>\n",
       "      <td>Water by KF</td>\n",
       "      <td>Not more than 8.0 % w/w</td>\n",
       "      <td>In-house</td>\n",
       "    </tr>\n",
       "  </tbody>\n",
       "</table>\n",
       "</div>"
      ],
      "text/plain": [
       "   Sr.               Test                                      Specification  \\\n",
       "1  1.0        Description                        White to off white capsules   \n",
       "2  2.0  Blend Homogeneity  Stage – 1: Individual values should be between...   \n",
       "3  3.0        Water by KF                            Not more than 8.0 % w/w   \n",
       "\n",
       "  Reference  \n",
       "1  In-house  \n",
       "2  In-house  \n",
       "3  In-house  "
      ]
     },
     "execution_count": 12,
     "metadata": {},
     "output_type": "execute_result"
    }
   ],
   "source": [
    "df"
   ]
  },
  {
   "cell_type": "code",
   "execution_count": 13,
   "metadata": {},
   "outputs": [],
   "source": [
    "SPEC_TABLE=df"
   ]
  },
  {
   "cell_type": "code",
   "execution_count": 14,
   "metadata": {},
   "outputs": [
    {
     "data": {
      "text/html": [
       "<div>\n",
       "<style scoped>\n",
       "    .dataframe tbody tr th:only-of-type {\n",
       "        vertical-align: middle;\n",
       "    }\n",
       "\n",
       "    .dataframe tbody tr th {\n",
       "        vertical-align: top;\n",
       "    }\n",
       "\n",
       "    .dataframe thead th {\n",
       "        text-align: right;\n",
       "    }\n",
       "</style>\n",
       "<table border=\"1\" class=\"dataframe\">\n",
       "  <thead>\n",
       "    <tr style=\"text-align: right;\">\n",
       "      <th></th>\n",
       "      <th>Sr.</th>\n",
       "      <th>Test</th>\n",
       "      <th>Specification</th>\n",
       "      <th>Reference</th>\n",
       "    </tr>\n",
       "  </thead>\n",
       "  <tbody>\n",
       "    <tr>\n",
       "      <th>1</th>\n",
       "      <td>1.0</td>\n",
       "      <td>Description</td>\n",
       "      <td>White to off white capsules</td>\n",
       "      <td>In-house</td>\n",
       "    </tr>\n",
       "    <tr>\n",
       "      <th>2</th>\n",
       "      <td>2.0</td>\n",
       "      <td>Blend Homogeneity</td>\n",
       "      <td>Stage – 1: Individual values should be between...</td>\n",
       "      <td>In-house</td>\n",
       "    </tr>\n",
       "    <tr>\n",
       "      <th>3</th>\n",
       "      <td>3.0</td>\n",
       "      <td>Water by KF</td>\n",
       "      <td>Not more than 8.0 % w/w</td>\n",
       "      <td>In-house</td>\n",
       "    </tr>\n",
       "  </tbody>\n",
       "</table>\n",
       "</div>"
      ],
      "text/plain": [
       "   Sr.               Test                                      Specification  \\\n",
       "1  1.0        Description                        White to off white capsules   \n",
       "2  2.0  Blend Homogeneity  Stage – 1: Individual values should be between...   \n",
       "3  3.0        Water by KF                            Not more than 8.0 % w/w   \n",
       "\n",
       "  Reference  \n",
       "1  In-house  \n",
       "2  In-house  \n",
       "3  In-house  "
      ]
     },
     "execution_count": 14,
     "metadata": {},
     "output_type": "execute_result"
    }
   ],
   "source": [
    "SPEC_TABLE"
   ]
  },
  {
   "cell_type": "code",
   "execution_count": 15,
   "metadata": {},
   "outputs": [],
   "source": [
    "SPEC_TABLE.to_csv(\"D:\\ProvenTech\\SPEC_TABLE_1.csv\", index=False)"
   ]
  },
  {
   "cell_type": "code",
   "execution_count": 17,
   "metadata": {},
   "outputs": [
    {
     "data": {
      "text/plain": [
       "['1.0', 'Description', 'White to off white capsules', 'In-house']"
      ]
     },
     "execution_count": 17,
     "metadata": {},
     "output_type": "execute_result"
    }
   ],
   "source": [
    "lst=df.iloc[0].tolist()\n",
    "lst"
   ]
  },
  {
   "cell_type": "code",
   "execution_count": null,
   "metadata": {},
   "outputs": [
    {
     "name": "stdout",
     "output_type": "stream",
     "text": [
      "['Description', 'Description', 'White to off white capsules', None, None]\n"
     ]
    }
   ],
   "source": [
    "from langchain.prompts import PromptTemplate\n",
    "from langchain.chains import LLMChain\n",
    "from langchain_groq import ChatGroq\n",
    "llm = ChatGroq(\n",
    "        model_name=\"llama-3.1-70b-versatile\",\n",
    "        temperature=0,\n",
    "        groq_api_key=\"Your Groq API key\"\n",
    "    )\n",
    "prompt_template = PromptTemplate.from_template(\n",
    "    \"\"\"You are an expert in deriving a list from another list based on given conditions.\n",
    "    you are given a row of a dataframe in the form of list as input. the columns of this dataframe is [Sr., Test,Specification,Reference].\n",
    "    you have to return a list so that I can append it to a new dataframe. the new dataframe columns are [TEST_NAME,SUB_TEST,TEXT_LIMIT,NLT(Not Less Than),NMT(Not More Than)]\n",
    "    so keep in mind to return list of values in such a way that I can append to this dataframe.\n",
    "    here are the conditions of convertion:\n",
    "    TEST_NAME: This will be directly taken from the Test column in SPEC_TABLE.\n",
    "    SUB_TEST: If a sub-test is present, populate this column with its name; otherwise, use the value from the Test column.\n",
    "    TEXT_LIMIT: Extract this directly from the Specification column of SPEC_TABLE.\n",
    "    NLT (Not Less Than): Extract this value from the Specification text where it states \"not less than\" and store it as a string.\n",
    "    NMT (Not More Than): Similarly, extract this value where it states \"not more than\" and store it as a string.\n",
    "    Handling \"Between\" Specifications:\n",
    "    If the Specification mentions \"between,\" you will encounter two values. Populate these values accordingly:\n",
    "    The first value should be assigned to NLT,\n",
    "    The second value should be assigned to NMT.\n",
    "    If Specification value has more than one value then return those number of lists with seperated sub topics and mention those names in subtests.\n",
    "    example for splitting: input:[2.0,\"Blend Homogeneity\",\"Stage - 1: here is stage1 content. Stage - 2: here is stage2 content\",\"In-house\"]\n",
    "    output:[[\"Blend Homogeneity\",\"Stage - 1\",\"here is stage1 content.\",\"NLT extracted from specification\",\"NMT extracted from specification\"],\n",
    "    [\"Blend Homogeneity\",\"Stage - 2\",\"here is stage2 content.\",\"NLT extracted from specification\",\"NMT extracted from specification\"]]\n",
    "    if NLT and NMT are not present just put None.\n",
    "    input :{lst}\n",
    "    output: only return list and nothing else.\n",
    "    NO PREAMBLE\n",
    "    return only list not code or any explanation\n",
    "\n",
    "    \"\"\"\n",
    ")\n",
    "chain = LLMChain(llm=llm, prompt=prompt_template)\n",
    "response = chain.run({\"lst\":lst})\n",
    "#response = llm(prompt_template)\n",
    "\n",
    "print(response)"
   ]
  },
  {
   "cell_type": "code",
   "execution_count": 32,
   "metadata": {},
   "outputs": [
    {
     "name": "stdout",
     "output_type": "stream",
     "text": [
      "[['Blend Homogeneity', 'Stage - 1', 'Individual values should be between 90.0% to 110.0%, average of all individuals should be within 95.0% - 105.0% of labelled amount, RSD NMT 5.0%', '90.0%', '110.0%'], \n",
      " ['Blend Homogeneity', 'Stage - 2', 'Individual values should be between 85.0% to 115.0%, Average of all individuals should be within 95.0%  - 105.0% of labelled amount, RSD NMT 5.0%', '85.0%', '115.0%']]\n"
     ]
    }
   ],
   "source": [
    "lst=df.iloc[1].tolist()\n",
    "response = chain.run({\"lst\":lst})\n",
    "print(response)"
   ]
  },
  {
   "cell_type": "code",
   "execution_count": 33,
   "metadata": {},
   "outputs": [
    {
     "name": "stdout",
     "output_type": "stream",
     "text": [
      "['Water by KF', 'Water by KF', 'Not more than 8.0 % w/w', None, '8.0 % w/w']\n"
     ]
    }
   ],
   "source": [
    "lst=df.iloc[2].tolist()\n",
    "response = chain.run({\"lst\":lst})\n",
    "print(response)"
   ]
  },
  {
   "cell_type": "code",
   "execution_count": 35,
   "metadata": {},
   "outputs": [],
   "source": [
    "columns = [\"TEST_NAME\", \"SUB_TEST\", \"TEXT_LIMIT\", \"NLT (Not Less Than)\", \"NMT (Not More Than)\"]\n",
    "\n",
    "# Create an empty DataFrame with the defined columns\n",
    "LIMITS = pd.DataFrame(columns=columns)\n",
    "\n",
    "# Function to append a row or multiple rows to the DataFrame\n",
    "def append_to_dataframe(LIMITS, data):\n",
    "    # Ensure data is a list of lists\n",
    "    if isinstance(data[0], list):\n",
    "        new_data = data  # Data is already a list of lists\n",
    "    else:\n",
    "        new_data = [data]  # Convert single row to a list of lists\n",
    "\n",
    "    # Convert new data to a DataFrame and append\n",
    "    new_df = pd.DataFrame(new_data, columns=LIMITS.columns)\n",
    "    return pd.concat([LIMITS, new_df], ignore_index=True)\n",
    "\n"
   ]
  },
  {
   "cell_type": "code",
   "execution_count": 36,
   "metadata": {},
   "outputs": [
    {
     "data": {
      "text/plain": [
       "\"['Water by KF', 'Water by KF', 'Not more than 8.0 % w/w', None, '8.0 % w/w']\""
      ]
     },
     "execution_count": 36,
     "metadata": {},
     "output_type": "execute_result"
    }
   ],
   "source": [
    "response"
   ]
  },
  {
   "cell_type": "code",
   "execution_count": 37,
   "metadata": {},
   "outputs": [
    {
     "data": {
      "text/plain": [
       "str"
      ]
     },
     "execution_count": 37,
     "metadata": {},
     "output_type": "execute_result"
    }
   ],
   "source": [
    "type(response)"
   ]
  },
  {
   "cell_type": "code",
   "execution_count": 39,
   "metadata": {},
   "outputs": [
    {
     "name": "stdout",
     "output_type": "stream",
     "text": [
      "['Description', 'Description', 'White to off white capsules', None, None]\n",
      "<class 'list'>\n"
     ]
    }
   ],
   "source": [
    "import ast\n",
    "\n",
    "# String representation of a list\n",
    "list_string = response\n",
    "\n",
    "# Convert string to list\n",
    "actual_list = ast.literal_eval(list_string)\n",
    "\n",
    "print(actual_list)  # Output: [1, 2, 3]\n",
    "print(type(actual_list))  # Output: <class 'list'>\n"
   ]
  },
  {
   "cell_type": "code",
   "execution_count": 40,
   "metadata": {},
   "outputs": [
    {
     "name": "stdout",
     "output_type": "stream",
     "text": [
      "     TEST_NAME     SUB_TEST                   TEXT_LIMIT NLT (Not Less Than)  \\\n",
      "0  Description  Description  White to off white capsules                None   \n",
      "\n",
      "  NMT (Not More Than)  \n",
      "0                None  \n"
     ]
    }
   ],
   "source": [
    "\n",
    "LIMITS = append_to_dataframe(LIMITS, actual_list)\n",
    "\n",
    "print(LIMITS)"
   ]
  },
  {
   "cell_type": "code",
   "execution_count": 41,
   "metadata": {},
   "outputs": [
    {
     "data": {
      "text/html": [
       "<div>\n",
       "<style scoped>\n",
       "    .dataframe tbody tr th:only-of-type {\n",
       "        vertical-align: middle;\n",
       "    }\n",
       "\n",
       "    .dataframe tbody tr th {\n",
       "        vertical-align: top;\n",
       "    }\n",
       "\n",
       "    .dataframe thead th {\n",
       "        text-align: right;\n",
       "    }\n",
       "</style>\n",
       "<table border=\"1\" class=\"dataframe\">\n",
       "  <thead>\n",
       "    <tr style=\"text-align: right;\">\n",
       "      <th></th>\n",
       "      <th>TEST_NAME</th>\n",
       "      <th>SUB_TEST</th>\n",
       "      <th>TEXT_LIMIT</th>\n",
       "      <th>NLT (Not Less Than)</th>\n",
       "      <th>NMT (Not More Than)</th>\n",
       "    </tr>\n",
       "  </thead>\n",
       "  <tbody>\n",
       "    <tr>\n",
       "      <th>0</th>\n",
       "      <td>Description</td>\n",
       "      <td>Description</td>\n",
       "      <td>White to off white capsules</td>\n",
       "      <td>None</td>\n",
       "      <td>None</td>\n",
       "    </tr>\n",
       "  </tbody>\n",
       "</table>\n",
       "</div>"
      ],
      "text/plain": [
       "     TEST_NAME     SUB_TEST                   TEXT_LIMIT NLT (Not Less Than)  \\\n",
       "0  Description  Description  White to off white capsules                None   \n",
       "\n",
       "  NMT (Not More Than)  \n",
       "0                None  "
      ]
     },
     "execution_count": 41,
     "metadata": {},
     "output_type": "execute_result"
    }
   ],
   "source": [
    "LIMITS"
   ]
  },
  {
   "cell_type": "code",
   "execution_count": null,
   "metadata": {},
   "outputs": [],
   "source": [
    "# Multiple rows\n",
    "rows = [\n",
    "    [\"Test2\", \"SubTest2\", \"20\", \"10\", \"30\"],\n",
    "    [\"Test3\", \"SubTest3\", \"30\", \"15\", \"45\"]\n",
    "]\n",
    "dtf = append_to_dataframe(dtf, rows)\n",
    "\n",
    "# Print the resulting DataFrame\n",
    "print(dtf)"
   ]
  },
  {
   "cell_type": "code",
   "execution_count": 42,
   "metadata": {},
   "outputs": [],
   "source": [
    "lst=df.iloc[1].tolist()\n",
    "response = chain.run({\"lst\":lst})\n",
    "actual_list = ast.literal_eval(response)\n",
    "LIMITS = append_to_dataframe(LIMITS, actual_list)"
   ]
  },
  {
   "cell_type": "code",
   "execution_count": 43,
   "metadata": {},
   "outputs": [
    {
     "data": {
      "text/html": [
       "<div>\n",
       "<style scoped>\n",
       "    .dataframe tbody tr th:only-of-type {\n",
       "        vertical-align: middle;\n",
       "    }\n",
       "\n",
       "    .dataframe tbody tr th {\n",
       "        vertical-align: top;\n",
       "    }\n",
       "\n",
       "    .dataframe thead th {\n",
       "        text-align: right;\n",
       "    }\n",
       "</style>\n",
       "<table border=\"1\" class=\"dataframe\">\n",
       "  <thead>\n",
       "    <tr style=\"text-align: right;\">\n",
       "      <th></th>\n",
       "      <th>TEST_NAME</th>\n",
       "      <th>SUB_TEST</th>\n",
       "      <th>TEXT_LIMIT</th>\n",
       "      <th>NLT (Not Less Than)</th>\n",
       "      <th>NMT (Not More Than)</th>\n",
       "    </tr>\n",
       "  </thead>\n",
       "  <tbody>\n",
       "    <tr>\n",
       "      <th>0</th>\n",
       "      <td>Description</td>\n",
       "      <td>Description</td>\n",
       "      <td>White to off white capsules</td>\n",
       "      <td>None</td>\n",
       "      <td>None</td>\n",
       "    </tr>\n",
       "    <tr>\n",
       "      <th>1</th>\n",
       "      <td>Blend Homogeneity</td>\n",
       "      <td>Stage - 1</td>\n",
       "      <td>Individual values should be between 90.0% to 1...</td>\n",
       "      <td>90.0%</td>\n",
       "      <td>110.0%</td>\n",
       "    </tr>\n",
       "    <tr>\n",
       "      <th>2</th>\n",
       "      <td>Blend Homogeneity</td>\n",
       "      <td>Stage - 2</td>\n",
       "      <td>Individual values should be between 85.0% to 1...</td>\n",
       "      <td>85.0%</td>\n",
       "      <td>115.0%</td>\n",
       "    </tr>\n",
       "  </tbody>\n",
       "</table>\n",
       "</div>"
      ],
      "text/plain": [
       "           TEST_NAME     SUB_TEST  \\\n",
       "0        Description  Description   \n",
       "1  Blend Homogeneity    Stage - 1   \n",
       "2  Blend Homogeneity    Stage - 2   \n",
       "\n",
       "                                          TEXT_LIMIT NLT (Not Less Than)  \\\n",
       "0                        White to off white capsules                None   \n",
       "1  Individual values should be between 90.0% to 1...               90.0%   \n",
       "2  Individual values should be between 85.0% to 1...               85.0%   \n",
       "\n",
       "  NMT (Not More Than)  \n",
       "0                None  \n",
       "1              110.0%  \n",
       "2              115.0%  "
      ]
     },
     "execution_count": 43,
     "metadata": {},
     "output_type": "execute_result"
    }
   ],
   "source": [
    "LIMITS"
   ]
  },
  {
   "cell_type": "code",
   "execution_count": 44,
   "metadata": {},
   "outputs": [],
   "source": [
    "lst=df.iloc[2].tolist()\n",
    "response = chain.run({\"lst\":lst})\n",
    "actual_list = ast.literal_eval(response)\n",
    "LIMITS = append_to_dataframe(LIMITS, actual_list)"
   ]
  },
  {
   "cell_type": "code",
   "execution_count": 45,
   "metadata": {},
   "outputs": [
    {
     "data": {
      "text/html": [
       "<div>\n",
       "<style scoped>\n",
       "    .dataframe tbody tr th:only-of-type {\n",
       "        vertical-align: middle;\n",
       "    }\n",
       "\n",
       "    .dataframe tbody tr th {\n",
       "        vertical-align: top;\n",
       "    }\n",
       "\n",
       "    .dataframe thead th {\n",
       "        text-align: right;\n",
       "    }\n",
       "</style>\n",
       "<table border=\"1\" class=\"dataframe\">\n",
       "  <thead>\n",
       "    <tr style=\"text-align: right;\">\n",
       "      <th></th>\n",
       "      <th>TEST_NAME</th>\n",
       "      <th>SUB_TEST</th>\n",
       "      <th>TEXT_LIMIT</th>\n",
       "      <th>NLT (Not Less Than)</th>\n",
       "      <th>NMT (Not More Than)</th>\n",
       "    </tr>\n",
       "  </thead>\n",
       "  <tbody>\n",
       "    <tr>\n",
       "      <th>0</th>\n",
       "      <td>Description</td>\n",
       "      <td>Description</td>\n",
       "      <td>White to off white capsules</td>\n",
       "      <td>None</td>\n",
       "      <td>None</td>\n",
       "    </tr>\n",
       "    <tr>\n",
       "      <th>1</th>\n",
       "      <td>Blend Homogeneity</td>\n",
       "      <td>Stage - 1</td>\n",
       "      <td>Individual values should be between 90.0% to 1...</td>\n",
       "      <td>90.0%</td>\n",
       "      <td>110.0%</td>\n",
       "    </tr>\n",
       "    <tr>\n",
       "      <th>2</th>\n",
       "      <td>Blend Homogeneity</td>\n",
       "      <td>Stage - 2</td>\n",
       "      <td>Individual values should be between 85.0% to 1...</td>\n",
       "      <td>85.0%</td>\n",
       "      <td>115.0%</td>\n",
       "    </tr>\n",
       "    <tr>\n",
       "      <th>3</th>\n",
       "      <td>Water by KF</td>\n",
       "      <td>Water by KF</td>\n",
       "      <td>Not more than 8.0 % w/w</td>\n",
       "      <td>None</td>\n",
       "      <td>8.0 % w/w</td>\n",
       "    </tr>\n",
       "  </tbody>\n",
       "</table>\n",
       "</div>"
      ],
      "text/plain": [
       "           TEST_NAME     SUB_TEST  \\\n",
       "0        Description  Description   \n",
       "1  Blend Homogeneity    Stage - 1   \n",
       "2  Blend Homogeneity    Stage - 2   \n",
       "3        Water by KF  Water by KF   \n",
       "\n",
       "                                          TEXT_LIMIT NLT (Not Less Than)  \\\n",
       "0                        White to off white capsules                None   \n",
       "1  Individual values should be between 90.0% to 1...               90.0%   \n",
       "2  Individual values should be between 85.0% to 1...               85.0%   \n",
       "3                            Not more than 8.0 % w/w                None   \n",
       "\n",
       "  NMT (Not More Than)  \n",
       "0                None  \n",
       "1              110.0%  \n",
       "2              115.0%  \n",
       "3           8.0 % w/w  "
      ]
     },
     "execution_count": 45,
     "metadata": {},
     "output_type": "execute_result"
    }
   ],
   "source": [
    "LIMITS"
   ]
  },
  {
   "cell_type": "code",
   "execution_count": 46,
   "metadata": {},
   "outputs": [],
   "source": [
    "LIMITS.to_csv(\"D:\\ProvenTech\\LIMITS_1.csv\", index=False)"
   ]
  },
  {
   "cell_type": "code",
   "execution_count": 47,
   "metadata": {},
   "outputs": [
    {
     "data": {
      "text/html": [
       "<div>\n",
       "<style scoped>\n",
       "    .dataframe tbody tr th:only-of-type {\n",
       "        vertical-align: middle;\n",
       "    }\n",
       "\n",
       "    .dataframe tbody tr th {\n",
       "        vertical-align: top;\n",
       "    }\n",
       "\n",
       "    .dataframe thead th {\n",
       "        text-align: right;\n",
       "    }\n",
       "</style>\n",
       "<table border=\"1\" class=\"dataframe\">\n",
       "  <thead>\n",
       "    <tr style=\"text-align: right;\">\n",
       "      <th></th>\n",
       "      <th>Sr.</th>\n",
       "      <th>Test</th>\n",
       "      <th>Specification</th>\n",
       "      <th>Reference</th>\n",
       "    </tr>\n",
       "  </thead>\n",
       "  <tbody>\n",
       "    <tr>\n",
       "      <th>1</th>\n",
       "      <td>1.0</td>\n",
       "      <td>Description</td>\n",
       "      <td>White to off white capsules</td>\n",
       "      <td>In-house</td>\n",
       "    </tr>\n",
       "    <tr>\n",
       "      <th>2</th>\n",
       "      <td>2.0</td>\n",
       "      <td>Blend Homogeneity</td>\n",
       "      <td>Stage – 1: Individual values should be between...</td>\n",
       "      <td>In-house</td>\n",
       "    </tr>\n",
       "    <tr>\n",
       "      <th>3</th>\n",
       "      <td>3.0</td>\n",
       "      <td>Water by KF</td>\n",
       "      <td>Not more than 8.0 % w/w</td>\n",
       "      <td>In-house</td>\n",
       "    </tr>\n",
       "  </tbody>\n",
       "</table>\n",
       "</div>"
      ],
      "text/plain": [
       "   Sr.               Test                                      Specification  \\\n",
       "1  1.0        Description                        White to off white capsules   \n",
       "2  2.0  Blend Homogeneity  Stage – 1: Individual values should be between...   \n",
       "3  3.0        Water by KF                            Not more than 8.0 % w/w   \n",
       "\n",
       "  Reference  \n",
       "1  In-house  \n",
       "2  In-house  \n",
       "3  In-house  "
      ]
     },
     "execution_count": 47,
     "metadata": {},
     "output_type": "execute_result"
    }
   ],
   "source": [
    "SPEC_TABLE"
   ]
  },
  {
   "cell_type": "code",
   "execution_count": 48,
   "metadata": {},
   "outputs": [
    {
     "data": {
      "text/html": [
       "<div>\n",
       "<style scoped>\n",
       "    .dataframe tbody tr th:only-of-type {\n",
       "        vertical-align: middle;\n",
       "    }\n",
       "\n",
       "    .dataframe tbody tr th {\n",
       "        vertical-align: top;\n",
       "    }\n",
       "\n",
       "    .dataframe thead th {\n",
       "        text-align: right;\n",
       "    }\n",
       "</style>\n",
       "<table border=\"1\" class=\"dataframe\">\n",
       "  <thead>\n",
       "    <tr style=\"text-align: right;\">\n",
       "      <th></th>\n",
       "      <th>TEST_NAME</th>\n",
       "      <th>SUB_TEST</th>\n",
       "      <th>TEXT_LIMIT</th>\n",
       "      <th>NLT (Not Less Than)</th>\n",
       "      <th>NMT (Not More Than)</th>\n",
       "    </tr>\n",
       "  </thead>\n",
       "  <tbody>\n",
       "    <tr>\n",
       "      <th>0</th>\n",
       "      <td>Description</td>\n",
       "      <td>Description</td>\n",
       "      <td>White to off white capsules</td>\n",
       "      <td>None</td>\n",
       "      <td>None</td>\n",
       "    </tr>\n",
       "    <tr>\n",
       "      <th>1</th>\n",
       "      <td>Blend Homogeneity</td>\n",
       "      <td>Stage - 1</td>\n",
       "      <td>Individual values should be between 90.0% to 1...</td>\n",
       "      <td>90.0%</td>\n",
       "      <td>110.0%</td>\n",
       "    </tr>\n",
       "    <tr>\n",
       "      <th>2</th>\n",
       "      <td>Blend Homogeneity</td>\n",
       "      <td>Stage - 2</td>\n",
       "      <td>Individual values should be between 85.0% to 1...</td>\n",
       "      <td>85.0%</td>\n",
       "      <td>115.0%</td>\n",
       "    </tr>\n",
       "    <tr>\n",
       "      <th>3</th>\n",
       "      <td>Water by KF</td>\n",
       "      <td>Water by KF</td>\n",
       "      <td>Not more than 8.0 % w/w</td>\n",
       "      <td>None</td>\n",
       "      <td>8.0 % w/w</td>\n",
       "    </tr>\n",
       "  </tbody>\n",
       "</table>\n",
       "</div>"
      ],
      "text/plain": [
       "           TEST_NAME     SUB_TEST  \\\n",
       "0        Description  Description   \n",
       "1  Blend Homogeneity    Stage - 1   \n",
       "2  Blend Homogeneity    Stage - 2   \n",
       "3        Water by KF  Water by KF   \n",
       "\n",
       "                                          TEXT_LIMIT NLT (Not Less Than)  \\\n",
       "0                        White to off white capsules                None   \n",
       "1  Individual values should be between 90.0% to 1...               90.0%   \n",
       "2  Individual values should be between 85.0% to 1...               85.0%   \n",
       "3                            Not more than 8.0 % w/w                None   \n",
       "\n",
       "  NMT (Not More Than)  \n",
       "0                None  \n",
       "1              110.0%  \n",
       "2              115.0%  \n",
       "3           8.0 % w/w  "
      ]
     },
     "execution_count": 48,
     "metadata": {},
     "output_type": "execute_result"
    }
   ],
   "source": [
    "LIMITS"
   ]
  },
  {
   "cell_type": "code",
   "execution_count": null,
   "metadata": {},
   "outputs": [],
   "source": []
  }
 ],
 "metadata": {
  "kernelspec": {
   "display_name": "Python 3",
   "language": "python",
   "name": "python3"
  },
  "language_info": {
   "codemirror_mode": {
    "name": "ipython",
    "version": 3
   },
   "file_extension": ".py",
   "mimetype": "text/x-python",
   "name": "python",
   "nbconvert_exporter": "python",
   "pygments_lexer": "ipython3",
   "version": "3.10.0"
  }
 },
 "nbformat": 4,
 "nbformat_minor": 2
}
